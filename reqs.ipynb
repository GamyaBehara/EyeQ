{
 "cells": [
  {
   "cell_type": "code",
   "execution_count": 3,
   "id": "b103955c",
   "metadata": {},
   "outputs": [
    {
     "name": "stdout",
     "output_type": "stream",
     "text": [
      "Requirement already satisfied: numpy==1.24.4 in c:\\users\\beher\\appdata\\local\\programs\\python\\python39\\lib\\site-packages (1.24.4)Note: you may need to restart the kernel to use updated packages.\n",
      "\n"
     ]
    },
    {
     "name": "stderr",
     "output_type": "stream",
     "text": [
      "WARNING: You are using pip version 22.0.4; however, version 25.2 is available.\n",
      "You should consider upgrading via the 'c:\\Users\\beher\\AppData\\Local\\Programs\\Python\\Python39\\python.exe -m pip install --upgrade pip' command.\n"
     ]
    }
   ],
   "source": [
    "pip install numpy==1.24.4"
   ]
  },
  {
   "cell_type": "code",
   "execution_count": 4,
   "id": "c5cb4fac",
   "metadata": {},
   "outputs": [
    {
     "name": "stdout",
     "output_type": "stream",
     "text": [
      "1.24.4\n"
     ]
    }
   ],
   "source": [
    "import numpy as np\n",
    "print(np.__version__)"
   ]
  },
  {
   "cell_type": "code",
   "execution_count": 5,
   "id": "5a8c1b22",
   "metadata": {},
   "outputs": [
    {
     "name": "stdout",
     "output_type": "stream",
     "text": [
      "Requirement already satisfied: matplotlib in c:\\users\\beher\\appdata\\local\\programs\\python\\python39\\lib\\site-packages (3.7.1)\n",
      "Requirement already satisfied: contourpy>=1.0.1 in c:\\users\\beher\\appdata\\local\\programs\\python\\python39\\lib\\site-packages (from matplotlib) (1.3.0)\n",
      "Requirement already satisfied: importlib-resources>=3.2.0 in c:\\users\\beher\\appdata\\local\\programs\\python\\python39\\lib\\site-packages (from matplotlib) (6.5.2)\n",
      "Requirement already satisfied: numpy>=1.20 in c:\\users\\beher\\appdata\\local\\programs\\python\\python39\\lib\\site-packages (from matplotlib) (1.24.4)\n",
      "Requirement already satisfied: cycler>=0.10 in c:\\users\\beher\\appdata\\local\\programs\\python\\python39\\lib\\site-packages (from matplotlib) (0.12.1)\n",
      "Requirement already satisfied: fonttools>=4.22.0 in c:\\users\\beher\\appdata\\local\\programs\\python\\python39\\lib\\site-packages (from matplotlib) (4.59.2)\n",
      "Requirement already satisfied: kiwisolver>=1.0.1 in c:\\users\\beher\\appdata\\local\\programs\\python\\python39\\lib\\site-packages (from matplotlib) (1.4.7)\n",
      "Requirement already satisfied: packaging>=20.0 in c:\\users\\beher\\appdata\\roaming\\python\\python39\\site-packages (from matplotlib) (25.0)\n",
      "Requirement already satisfied: python-dateutil>=2.7 in c:\\users\\beher\\appdata\\roaming\\python\\python39\\site-packages (from matplotlib) (2.9.0.post0)\n",
      "Requirement already satisfied: pyparsing>=2.3.1 in c:\\users\\beher\\appdata\\local\\programs\\python\\python39\\lib\\site-packages (from matplotlib) (3.2.3)\n",
      "Requirement already satisfied: pillow>=6.2.0 in c:\\users\\beher\\appdata\\local\\programs\\python\\python39\\lib\\site-packages (from matplotlib) (11.3.0)\n",
      "Requirement already satisfied: zipp>=3.1.0 in c:\\users\\beher\\appdata\\roaming\\python\\python39\\site-packages (from importlib-resources>=3.2.0->matplotlib) (3.23.0)\n",
      "Requirement already satisfied: six>=1.5 in c:\\users\\beher\\appdata\\roaming\\python\\python39\\site-packages (from python-dateutil>=2.7->matplotlib) (1.17.0)\n",
      "Note: you may need to restart the kernel to use updated packages.\n"
     ]
    },
    {
     "name": "stderr",
     "output_type": "stream",
     "text": [
      "WARNING: You are using pip version 22.0.4; however, version 25.2 is available.\n",
      "You should consider upgrading via the 'c:\\Users\\beher\\AppData\\Local\\Programs\\Python\\Python39\\python.exe -m pip install --upgrade pip' command.\n"
     ]
    }
   ],
   "source": [
    "pip install matplotlib"
   ]
  },
  {
   "cell_type": "code",
   "execution_count": 6,
   "id": "31fa710a",
   "metadata": {},
   "outputs": [
    {
     "name": "stdout",
     "output_type": "stream",
     "text": [
      "3.7.1\n"
     ]
    }
   ],
   "source": [
    "import matplotlib\n",
    "print(matplotlib.__version__)"
   ]
  },
  {
   "cell_type": "code",
   "execution_count": 7,
   "id": "e61de104",
   "metadata": {},
   "outputs": [
    {
     "name": "stdout",
     "output_type": "stream",
     "text": [
      "Requirement already satisfied: pandas in c:\\users\\beher\\appdata\\local\\programs\\python\\python39\\lib\\site-packages (2.3.2)Note: you may need to restart the kernel to use updated packages.\n"
     ]
    },
    {
     "name": "stderr",
     "output_type": "stream",
     "text": [
      "WARNING: You are using pip version 22.0.4; however, version 25.2 is available.\n",
      "You should consider upgrading via the 'c:\\Users\\beher\\AppData\\Local\\Programs\\Python\\Python39\\python.exe -m pip install --upgrade pip' command.\n"
     ]
    },
    {
     "name": "stdout",
     "output_type": "stream",
     "text": [
      "\n",
      "Requirement already satisfied: pytz>=2020.1 in c:\\users\\beher\\appdata\\local\\programs\\python\\python39\\lib\\site-packages (from pandas) (2025.2)\n",
      "Requirement already satisfied: python-dateutil>=2.8.2 in c:\\users\\beher\\appdata\\roaming\\python\\python39\\site-packages (from pandas) (2.9.0.post0)\n",
      "Requirement already satisfied: numpy>=1.22.4 in c:\\users\\beher\\appdata\\local\\programs\\python\\python39\\lib\\site-packages (from pandas) (1.24.4)\n",
      "Requirement already satisfied: tzdata>=2022.7 in c:\\users\\beher\\appdata\\local\\programs\\python\\python39\\lib\\site-packages (from pandas) (2025.2)\n",
      "Requirement already satisfied: six>=1.5 in c:\\users\\beher\\appdata\\roaming\\python\\python39\\site-packages (from python-dateutil>=2.8.2->pandas) (1.17.0)\n"
     ]
    }
   ],
   "source": [
    "pip install pandas"
   ]
  },
  {
   "cell_type": "code",
   "execution_count": 8,
   "id": "c6d85352",
   "metadata": {},
   "outputs": [
    {
     "name": "stdout",
     "output_type": "stream",
     "text": [
      "2.3.2\n"
     ]
    }
   ],
   "source": [
    "import pandas as pd\n",
    "print(pd.__version__)"
   ]
  },
  {
   "cell_type": "code",
   "execution_count": 9,
   "id": "36cf6b1d",
   "metadata": {},
   "outputs": [
    {
     "name": "stdout",
     "output_type": "stream",
     "text": [
      "Requirement already satisfied: opencv-python in c:\\users\\beher\\appdata\\local\\programs\\python\\python39\\lib\\site-packages (4.12.0.88)Note: you may need to restart the kernel to use updated packages.\n",
      "\n",
      "Collecting numpy<2.3.0,>=2\n",
      "  Using cached numpy-2.0.2-cp39-cp39-win_amd64.whl (15.9 MB)\n",
      "Installing collected packages: numpy\n",
      "  Attempting uninstall: numpy\n",
      "    Found existing installation: numpy 1.24.4\n",
      "    Uninstalling numpy-1.24.4:\n",
      "      Successfully uninstalled numpy-1.24.4\n"
     ]
    },
    {
     "name": "stderr",
     "output_type": "stream",
     "text": [
      "ERROR: Could not install packages due to an OSError: [WinError 5] Access is denied: 'C:\\\\Users\\\\beher\\\\AppData\\\\Local\\\\Programs\\\\Python\\\\Python39\\\\Lib\\\\site-packages\\\\~~mpy\\\\.libs\\\\libopenblas64__v0.3.21-gcc_10_3_0.dll'\n",
      "Consider using the `--user` option or check the permissions.\n",
      "\n",
      "WARNING: You are using pip version 22.0.4; however, version 25.2 is available.\n",
      "You should consider upgrading via the 'c:\\Users\\beher\\AppData\\Local\\Programs\\Python\\Python39\\python.exe -m pip install --upgrade pip' command.\n"
     ]
    }
   ],
   "source": [
    "pip install opencv-python"
   ]
  },
  {
   "cell_type": "code",
   "execution_count": 10,
   "id": "4948c318",
   "metadata": {},
   "outputs": [
    {
     "name": "stdout",
     "output_type": "stream",
     "text": [
      "Found existing installation: numpy 2.0.2\n",
      "Uninstalling numpy-2.0.2:\n",
      "  Successfully uninstalled numpy-2.0.2\n",
      "Found existing installation: matplotlib 3.7.1\n",
      "Uninstalling matplotlib-3.7.1:\n",
      "  Successfully uninstalled matplotlib-3.7.1\n",
      "Note: you may need to restart the kernel to use updated packages.\n"
     ]
    },
    {
     "name": "stderr",
     "output_type": "stream",
     "text": [
      "ERROR: Exception:\n",
      "Traceback (most recent call last):\n",
      "  File \"c:\\Users\\beher\\AppData\\Local\\Programs\\Python\\Python39\\lib\\site-packages\\pip\\_internal\\cli\\base_command.py\", line 167, in exc_logging_wrapper\n",
      "    status = run_func(*args)\n",
      "  File \"c:\\Users\\beher\\AppData\\Local\\Programs\\Python\\Python39\\lib\\site-packages\\pip\\_internal\\commands\\uninstall.py\", line 102, in run\n",
      "    uninstall_pathset.commit()\n",
      "  File \"c:\\Users\\beher\\AppData\\Local\\Programs\\Python\\Python39\\lib\\site-packages\\pip\\_internal\\req\\req_uninstall.py\", line 420, in commit\n",
      "    self._moved_paths.commit()\n",
      "  File \"c:\\Users\\beher\\AppData\\Local\\Programs\\Python\\Python39\\lib\\site-packages\\pip\\_internal\\req\\req_uninstall.py\", line 273, in commit\n",
      "    save_dir.cleanup()\n",
      "  File \"c:\\Users\\beher\\AppData\\Local\\Programs\\Python\\Python39\\lib\\site-packages\\pip\\_internal\\utils\\temp_dir.py\", line 173, in cleanup\n",
      "    rmtree(self._path)\n",
      "  File \"c:\\Users\\beher\\AppData\\Local\\Programs\\Python\\Python39\\lib\\site-packages\\pip\\_vendor\\tenacity\\__init__.py\", line 326, in wrapped_f\n",
      "    return self(f, *args, **kw)\n",
      "  File \"c:\\Users\\beher\\AppData\\Local\\Programs\\Python\\Python39\\lib\\site-packages\\pip\\_vendor\\tenacity\\__init__.py\", line 406, in __call__\n",
      "    do = self.iter(retry_state=retry_state)\n",
      "  File \"c:\\Users\\beher\\AppData\\Local\\Programs\\Python\\Python39\\lib\\site-packages\\pip\\_vendor\\tenacity\\__init__.py\", line 362, in iter\n",
      "    raise retry_exc.reraise()\n",
      "  File \"c:\\Users\\beher\\AppData\\Local\\Programs\\Python\\Python39\\lib\\site-packages\\pip\\_vendor\\tenacity\\__init__.py\", line 195, in reraise\n",
      "    raise self.last_attempt.result()\n",
      "  File \"c:\\Users\\beher\\AppData\\Local\\Programs\\Python\\Python39\\lib\\concurrent\\futures\\_base.py\", line 439, in result\n",
      "    return self.__get_result()\n",
      "  File \"c:\\Users\\beher\\AppData\\Local\\Programs\\Python\\Python39\\lib\\concurrent\\futures\\_base.py\", line 391, in __get_result\n",
      "    raise self._exception\n",
      "  File \"c:\\Users\\beher\\AppData\\Local\\Programs\\Python\\Python39\\lib\\site-packages\\pip\\_vendor\\tenacity\\__init__.py\", line 409, in __call__\n",
      "    result = fn(*args, **kwargs)\n",
      "  File \"c:\\Users\\beher\\AppData\\Local\\Programs\\Python\\Python39\\lib\\site-packages\\pip\\_internal\\utils\\misc.py\", line 124, in rmtree\n",
      "    shutil.rmtree(dir, ignore_errors=ignore_errors, onerror=rmtree_errorhandler)\n",
      "  File \"c:\\Users\\beher\\AppData\\Local\\Programs\\Python\\Python39\\lib\\shutil.py\", line 759, in rmtree\n",
      "    return _rmtree_unsafe(path, onerror)\n",
      "  File \"c:\\Users\\beher\\AppData\\Local\\Programs\\Python\\Python39\\lib\\shutil.py\", line 629, in _rmtree_unsafe\n",
      "    onerror(os.unlink, fullname, sys.exc_info())\n",
      "  File \"c:\\Users\\beher\\AppData\\Local\\Programs\\Python\\Python39\\lib\\shutil.py\", line 627, in _rmtree_unsafe\n",
      "    os.unlink(fullname)\n",
      "PermissionError: [WinError 5] Access is denied: 'C:\\\\Users\\\\beher\\\\AppData\\\\Local\\\\Programs\\\\Python\\\\Python39\\\\Lib\\\\site-packages\\\\~atplotlib.libs\\\\msvcp140-e78ebc24b6ffa690be9375aacad743a7.dll'\n"
     ]
    }
   ],
   "source": [
    "pip uninstall -y numpy matplotlib opencv-python\n"
   ]
  },
  {
   "cell_type": "code",
   "execution_count": 11,
   "id": "b31a1043",
   "metadata": {},
   "outputs": [
    {
     "name": "stdout",
     "output_type": "stream",
     "text": [
      "Collecting numpy==1.24.4\n",
      "  Using cached numpy-1.24.4-cp39-cp39-win_amd64.whl (14.9 MB)\n",
      "Installing collected packages: numpy\n",
      "Successfully installed numpy-1.24.4\n",
      "Note: you may need to restart the kernel to use updated packages.\n"
     ]
    },
    {
     "name": "stderr",
     "output_type": "stream",
     "text": [
      "ERROR: pip's dependency resolver does not currently take into account all the packages that are installed. This behaviour is the source of the following dependency conflicts.\n",
      "opencv-python 4.12.0.88 requires numpy<2.3.0,>=2; python_version >= \"3.9\", but you have numpy 1.24.4 which is incompatible.\n",
      "WARNING: You are using pip version 22.0.4; however, version 25.2 is available.\n",
      "You should consider upgrading via the 'c:\\Users\\beher\\AppData\\Local\\Programs\\Python\\Python39\\python.exe -m pip install --upgrade pip' command.\n"
     ]
    }
   ],
   "source": [
    "pip install numpy==1.24.4"
   ]
  },
  {
   "cell_type": "code",
   "execution_count": 12,
   "id": "426da1fc",
   "metadata": {},
   "outputs": [
    {
     "name": "stdout",
     "output_type": "stream",
     "text": [
      "Collecting matplotlib==3.7.1\n",
      "  Using cached matplotlib-3.7.1-cp39-cp39-win_amd64.whl (7.6 MB)\n",
      "Requirement already satisfied: fonttools>=4.22.0 in c:\\users\\beher\\appdata\\local\\programs\\python\\python39\\lib\\site-packages (from matplotlib==3.7.1) (4.59.2)\n",
      "Requirement already satisfied: contourpy>=1.0.1 in c:\\users\\beher\\appdata\\local\\programs\\python\\python39\\lib\\site-packages (from matplotlib==3.7.1) (1.3.0)\n",
      "Requirement already satisfied: cycler>=0.10 in c:\\users\\beher\\appdata\\local\\programs\\python\\python39\\lib\\site-packages (from matplotlib==3.7.1) (0.12.1)\n",
      "Requirement already satisfied: numpy>=1.20 in c:\\users\\beher\\appdata\\local\\programs\\python\\python39\\lib\\site-packages (from matplotlib==3.7.1) (1.24.4)\n",
      "Requirement already satisfied: python-dateutil>=2.7 in c:\\users\\beher\\appdata\\roaming\\python\\python39\\site-packages (from matplotlib==3.7.1) (2.9.0.post0)\n",
      "Requirement already satisfied: kiwisolver>=1.0.1 in c:\\users\\beher\\appdata\\local\\programs\\python\\python39\\lib\\site-packages (from matplotlib==3.7.1) (1.4.7)\n",
      "Requirement already satisfied: pyparsing>=2.3.1 in c:\\users\\beher\\appdata\\local\\programs\\python\\python39\\lib\\site-packages (from matplotlib==3.7.1) (3.2.3)\n",
      "Requirement already satisfied: packaging>=20.0 in c:\\users\\beher\\appdata\\roaming\\python\\python39\\site-packages (from matplotlib==3.7.1) (25.0)\n",
      "Requirement already satisfied: importlib-resources>=3.2.0 in c:\\users\\beher\\appdata\\local\\programs\\python\\python39\\lib\\site-packages (from matplotlib==3.7.1) (6.5.2)\n",
      "Requirement already satisfied: pillow>=6.2.0 in c:\\users\\beher\\appdata\\local\\programs\\python\\python39\\lib\\site-packages (from matplotlib==3.7.1) (11.3.0)\n",
      "Requirement already satisfied: zipp>=3.1.0 in c:\\users\\beher\\appdata\\roaming\\python\\python39\\site-packages (from importlib-resources>=3.2.0->matplotlib==3.7.1) (3.23.0)\n",
      "Requirement already satisfied: six>=1.5 in c:\\users\\beher\\appdata\\roaming\\python\\python39\\site-packages (from python-dateutil>=2.7->matplotlib==3.7.1) (1.17.0)\n",
      "Installing collected packages: matplotlib\n",
      "Successfully installed matplotlib-3.7.1\n",
      "Note: you may need to restart the kernel to use updated packages.\n"
     ]
    },
    {
     "name": "stderr",
     "output_type": "stream",
     "text": [
      "WARNING: You are using pip version 22.0.4; however, version 25.2 is available.\n",
      "You should consider upgrading via the 'c:\\Users\\beher\\AppData\\Local\\Programs\\Python\\Python39\\python.exe -m pip install --upgrade pip' command.\n"
     ]
    }
   ],
   "source": [
    "pip install matplotlib==3.7.1"
   ]
  },
  {
   "cell_type": "code",
   "execution_count": 13,
   "id": "f27d8870",
   "metadata": {},
   "outputs": [
    {
     "name": "stdout",
     "output_type": "stream",
     "text": [
      "Requirement already satisfied: opencv-python in c:\\users\\beher\\appdata\\local\\programs\\python\\python39\\lib\\site-packages (4.12.0.88)\n",
      "Collecting numpy<2.3.0,>=2\n",
      "  Using cached numpy-2.0.2-cp39-cp39-win_amd64.whl (15.9 MB)\n",
      "Installing collected packages: numpy\n",
      "  Attempting uninstall: numpy\n",
      "    Found existing installation: numpy 1.24.4\n",
      "    Uninstalling numpy-1.24.4:\n",
      "      Successfully uninstalled numpy-1.24.4\n",
      "Successfully installed numpy-2.0.2\n",
      "Note: you may need to restart the kernel to use updated packages.\n"
     ]
    },
    {
     "name": "stderr",
     "output_type": "stream",
     "text": [
      "WARNING: You are using pip version 22.0.4; however, version 25.2 is available.\n",
      "You should consider upgrading via the 'c:\\Users\\beher\\AppData\\Local\\Programs\\Python\\Python39\\python.exe -m pip install --upgrade pip' command.\n"
     ]
    }
   ],
   "source": [
    "pip install opencv-python"
   ]
  },
  {
   "cell_type": "code",
   "execution_count": 14,
   "id": "f0f5e603",
   "metadata": {},
   "outputs": [
    {
     "name": "stdout",
     "output_type": "stream",
     "text": [
      "Requirement already satisfied: pillow in c:\\users\\beher\\appdata\\local\\programs\\python\\python39\\lib\\site-packages (11.3.0)Note: you may need to restart the kernel to use updated packages.\n",
      "\n"
     ]
    },
    {
     "name": "stderr",
     "output_type": "stream",
     "text": [
      "WARNING: You are using pip version 22.0.4; however, version 25.2 is available.\n",
      "You should consider upgrading via the 'c:\\Users\\beher\\AppData\\Local\\Programs\\Python\\Python39\\python.exe -m pip install --upgrade pip' command.\n"
     ]
    }
   ],
   "source": [
    "pip install pillow"
   ]
  },
  {
   "cell_type": "code",
   "execution_count": 15,
   "id": "11448ca5",
   "metadata": {},
   "outputs": [
    {
     "name": "stdout",
     "output_type": "stream",
     "text": [
      "11.3.0\n"
     ]
    }
   ],
   "source": [
    "import PIL\n",
    "print(PIL.__version__)\n"
   ]
  },
  {
   "cell_type": "code",
   "execution_count": 16,
   "id": "93bcf8dd",
   "metadata": {},
   "outputs": [
    {
     "name": "stdout",
     "output_type": "stream",
     "text": [
      "Requirement already satisfied: torch in c:\\users\\beher\\appdata\\local\\programs\\python\\python39\\lib\\site-packages (2.8.0)\n",
      "Collecting torchvision\n",
      "  Using cached torchvision-0.23.0-cp39-cp39-win_amd64.whl (1.6 MB)\n",
      "Collecting torchaudio\n",
      "  Using cached torchaudio-2.8.0-cp39-cp39-win_amd64.whl (2.5 MB)\n",
      "Requirement already satisfied: typing-extensions>=4.10.0 in c:\\users\\beher\\appdata\\roaming\\python\\python39\\site-packages (from torch) (4.15.0)\n",
      "Requirement already satisfied: fsspec in c:\\users\\beher\\appdata\\local\\programs\\python\\python39\\lib\\site-packages (from torch) (2025.7.0)\n",
      "Requirement already satisfied: filelock in c:\\users\\beher\\appdata\\local\\programs\\python\\python39\\lib\\site-packages (from torch) (3.19.1)\n",
      "Requirement already satisfied: jinja2 in c:\\users\\beher\\appdata\\local\\programs\\python\\python39\\lib\\site-packages (from torch) (3.1.6)\n",
      "Requirement already satisfied: sympy>=1.13.3 in c:\\users\\beher\\appdata\\local\\programs\\python\\python39\\lib\\site-packages (from torch) (1.14.0)\n",
      "Requirement already satisfied: networkx in c:\\users\\beher\\appdata\\local\\programs\\python\\python39\\lib\\site-packages (from torch) (3.2.1)\n",
      "Requirement already satisfied: pillow!=8.3.*,>=5.3.0 in c:\\users\\beher\\appdata\\local\\programs\\python\\python39\\lib\\site-packages (from torchvision) (11.3.0)\n",
      "Requirement already satisfied: numpy in c:\\users\\beher\\appdata\\local\\programs\\python\\python39\\lib\\site-packages (from torchvision) (2.0.2)\n",
      "Requirement already satisfied: mpmath<1.4,>=1.1.0 in c:\\users\\beher\\appdata\\local\\programs\\python\\python39\\lib\\site-packages (from sympy>=1.13.3->torch) (1.3.0)\n",
      "Requirement already satisfied: MarkupSafe>=2.0 in c:\\users\\beher\\appdata\\local\\programs\\python\\python39\\lib\\site-packages (from jinja2->torch) (3.0.2)\n",
      "Installing collected packages: torchvision, torchaudio\n",
      "Successfully installed torchaudio-2.8.0 torchvision-0.23.0\n",
      "Note: you may need to restart the kernel to use updated packages.\n"
     ]
    },
    {
     "name": "stderr",
     "output_type": "stream",
     "text": [
      "WARNING: You are using pip version 22.0.4; however, version 25.2 is available.\n",
      "You should consider upgrading via the 'c:\\Users\\beher\\AppData\\Local\\Programs\\Python\\Python39\\python.exe -m pip install --upgrade pip' command.\n"
     ]
    }
   ],
   "source": [
    "pip install torch torchvision torchaudio\n"
   ]
  },
  {
   "cell_type": "code",
   "execution_count": 18,
   "id": "499d9de0",
   "metadata": {},
   "outputs": [
    {
     "name": "stdout",
     "output_type": "stream",
     "text": [
      "Found existing installation: numpy 2.0.2\n",
      "Uninstalling numpy-2.0.2:\n",
      "  Successfully uninstalled numpy-2.0.2\n",
      "Note: you may need to restart the kernel to use updated packages.\n"
     ]
    }
   ],
   "source": [
    "pip uninstall -y numpy"
   ]
  },
  {
   "cell_type": "code",
   "execution_count": 20,
   "id": "c0aa6548",
   "metadata": {},
   "outputs": [
    {
     "name": "stdout",
     "output_type": "stream",
     "text": [
      "Requirement already satisfied: pip in c:\\users\\beher\\appdata\\local\\programs\\python\\python39\\lib\\site-packages (22.0.4)\n",
      "Collecting pip\n",
      "  Downloading pip-25.2-py3-none-any.whl (1.8 MB)\n",
      "     ---------------------------------------- 1.8/1.8 MB 1.2 MB/s eta 0:00:00\n",
      "Requirement already satisfied: setuptools in c:\\users\\beher\\appdata\\local\\programs\\python\\python39\\lib\\site-packages (58.1.0)\n",
      "Collecting setuptools\n",
      "  Using cached setuptools-80.9.0-py3-none-any.whl (1.2 MB)\n",
      "Collecting wheel\n",
      "  Downloading wheel-0.45.1-py3-none-any.whl (72 kB)\n",
      "     ---------------------------------------- 72.5/72.5 KB 1.3 MB/s eta 0:00:00\n",
      "Installing collected packages: wheel, setuptools, pip\n",
      "  Attempting uninstall: setuptools\n",
      "    Found existing installation: setuptools 58.1.0\n",
      "    Uninstalling setuptools-58.1.0:\n",
      "      Successfully uninstalled setuptools-58.1.0\n",
      "  Attempting uninstall: pip\n",
      "    Found existing installation: pip 22.0.4\n",
      "    Uninstalling pip-22.0.4:\n",
      "      Successfully uninstalled pip-22.0.4\n",
      "Successfully installed pip-25.2 setuptools-80.9.0 wheel-0.45.1\n"
     ]
    }
   ],
   "source": [
    "!python -m pip install --upgrade pip setuptools wheel"
   ]
  },
  {
   "cell_type": "code",
   "execution_count": 21,
   "id": "17657c94",
   "metadata": {},
   "outputs": [
    {
     "name": "stdout",
     "output_type": "stream",
     "text": [
      "Collecting numpy==1.23.5\n",
      "  Downloading numpy-1.23.5-cp39-cp39-win_amd64.whl.metadata (2.3 kB)\n",
      "Downloading numpy-1.23.5-cp39-cp39-win_amd64.whl (14.7 MB)\n",
      "   ---------------------------------------- 0.0/14.7 MB ? eta -:--:--\n",
      "    --------------------------------------- 0.3/14.7 MB ? eta -:--:--\n",
      "   - -------------------------------------- 0.5/14.7 MB 1.2 MB/s eta 0:00:12\n",
      "   -- ------------------------------------- 1.0/14.7 MB 1.7 MB/s eta 0:00:08\n",
      "   ---- ----------------------------------- 1.6/14.7 MB 2.0 MB/s eta 0:00:07\n",
      "   ----- ---------------------------------- 1.8/14.7 MB 2.1 MB/s eta 0:00:07\n",
      "   ----- ---------------------------------- 2.1/14.7 MB 1.8 MB/s eta 0:00:07\n",
      "   ------- -------------------------------- 2.9/14.7 MB 2.0 MB/s eta 0:00:06\n",
      "   ------- -------------------------------- 2.9/14.7 MB 2.0 MB/s eta 0:00:06\n",
      "   --------- ------------------------------ 3.4/14.7 MB 1.9 MB/s eta 0:00:06\n",
      "   ---------- ----------------------------- 3.9/14.7 MB 2.0 MB/s eta 0:00:06\n",
      "   ----------- ---------------------------- 4.2/14.7 MB 2.0 MB/s eta 0:00:06\n",
      "   ------------ --------------------------- 4.7/14.7 MB 2.0 MB/s eta 0:00:06\n",
      "   -------------- ------------------------- 5.2/14.7 MB 2.0 MB/s eta 0:00:05\n",
      "   --------------- ------------------------ 5.5/14.7 MB 2.0 MB/s eta 0:00:05\n",
      "   ----------------- ---------------------- 6.3/14.7 MB 2.1 MB/s eta 0:00:05\n",
      "   ------------------- -------------------- 7.1/14.7 MB 2.2 MB/s eta 0:00:04\n",
      "   --------------------- ------------------ 7.9/14.7 MB 2.3 MB/s eta 0:00:03\n",
      "   ------------------------ --------------- 8.9/14.7 MB 2.4 MB/s eta 0:00:03\n",
      "   ------------------------- -------------- 9.4/14.7 MB 2.4 MB/s eta 0:00:03\n",
      "   --------------------------- ------------ 10.0/14.7 MB 2.5 MB/s eta 0:00:02\n",
      "   ----------------------------- ---------- 10.7/14.7 MB 2.5 MB/s eta 0:00:02\n",
      "   ------------------------------- -------- 11.5/14.7 MB 2.5 MB/s eta 0:00:02\n",
      "   -------------------------------- ------- 12.1/14.7 MB 2.6 MB/s eta 0:00:02\n",
      "   --------------------------------- ------ 12.3/14.7 MB 2.5 MB/s eta 0:00:01\n",
      "   ----------------------------------- ---- 13.1/14.7 MB 2.5 MB/s eta 0:00:01\n",
      "   ------------------------------------ --- 13.4/14.7 MB 2.5 MB/s eta 0:00:01\n",
      "   ------------------------------------- -- 13.9/14.7 MB 2.5 MB/s eta 0:00:01\n",
      "   ---------------------------------------- 14.7/14.7 MB 2.5 MB/s  0:00:05\n",
      "Installing collected packages: numpy\n",
      "Successfully installed numpy-1.23.5\n",
      "Note: you may need to restart the kernel to use updated packages.\n"
     ]
    },
    {
     "name": "stderr",
     "output_type": "stream",
     "text": [
      "ERROR: pip's dependency resolver does not currently take into account all the packages that are installed. This behaviour is the source of the following dependency conflicts.\n",
      "opencv-python 4.12.0.88 requires numpy<2.3.0,>=2; python_version >= \"3.9\", but you have numpy 1.23.5 which is incompatible.\n"
     ]
    }
   ],
   "source": [
    "pip install --force-reinstall numpy==1.23.5"
   ]
  },
  {
   "cell_type": "code",
   "execution_count": 22,
   "id": "cdfbf4aa",
   "metadata": {},
   "outputs": [
    {
     "name": "stdout",
     "output_type": "stream",
     "text": [
      "1.24.4\n"
     ]
    }
   ],
   "source": [
    "import numpy as np\n",
    "print(np.__version__)"
   ]
  },
  {
   "cell_type": "code",
   "execution_count": 23,
   "id": "d66d8b72",
   "metadata": {},
   "outputs": [
    {
     "name": "stdout",
     "output_type": "stream",
     "text": [
      "torch: 2.8.0+cpu\n",
      "torchvision: 0.23.0+cpu\n",
      "numpy: 1.24.4\n",
      "matplotlib: 3.7.1\n",
      "pandas: 2.3.2\n",
      "cv2: 4.12.0\n",
      "pillow: 11.3.0\n"
     ]
    }
   ],
   "source": [
    "import torch, torchvision\n",
    "import numpy as np\n",
    "import matplotlib\n",
    "import pandas as pd\n",
    "import cv2\n",
    "import PIL\n",
    "\n",
    "print(\"torch:\", torch.__version__)\n",
    "print(\"torchvision:\", torchvision.__version__)\n",
    "print(\"numpy:\", np.__version__)\n",
    "print(\"matplotlib:\", matplotlib.__version__)\n",
    "print(\"pandas:\", pd.__version__)\n",
    "print(\"cv2:\", cv2.__version__)\n",
    "print(\"pillow:\", PIL.__version__)\n"
   ]
  },
  {
   "cell_type": "code",
   "execution_count": 27,
   "id": "3755a6a3",
   "metadata": {},
   "outputs": [
    {
     "name": "stdout",
     "output_type": "stream",
     "text": [
      "Found existing installation: numpy 1.23.5\n",
      "Uninstalling numpy-1.23.5:\n",
      "  Successfully uninstalled numpy-1.23.5\n",
      "Collecting numpy==1.23.5\n",
      "  Using cached numpy-1.23.5-cp39-cp39-win_amd64.whl.metadata (2.3 kB)\n",
      "Using cached numpy-1.23.5-cp39-cp39-win_amd64.whl (14.7 MB)\n",
      "Installing collected packages: numpy\n",
      "Successfully installed numpy-1.23.5\n"
     ]
    },
    {
     "name": "stderr",
     "output_type": "stream",
     "text": [
      "WARNING: Retrying (Retry(total=4, connect=None, read=None, redirect=None, status=None)) after connection broken by 'ProtocolError('Connection aborted.', ConnectionResetError(10054, 'An existing connection was forcibly closed by the remote host', None, 10054, None))': /simple/numpy/\n",
      "WARNING: Retrying (Retry(total=3, connect=None, read=None, redirect=None, status=None)) after connection broken by 'NewConnectionError('<pip._vendor.urllib3.connection.HTTPSConnection object at 0x000002B03A785310>: Failed to establish a new connection: [Errno 11001] getaddrinfo failed')': /simple/numpy/\n",
      "WARNING: Retrying (Retry(total=2, connect=None, read=None, redirect=None, status=None)) after connection broken by 'NewConnectionError('<pip._vendor.urllib3.connection.HTTPSConnection object at 0x000002B03A785550>: Failed to establish a new connection: [Errno 11001] getaddrinfo failed')': /simple/numpy/\n",
      "WARNING: Retrying (Retry(total=1, connect=None, read=None, redirect=None, status=None)) after connection broken by 'NewConnectionError('<pip._vendor.urllib3.connection.HTTPSConnection object at 0x000002B03A785700>: Failed to establish a new connection: [Errno 11001] getaddrinfo failed')': /simple/numpy/\n",
      "WARNING: Retrying (Retry(total=0, connect=None, read=None, redirect=None, status=None)) after connection broken by 'NewConnectionError('<pip._vendor.urllib3.connection.HTTPSConnection object at 0x000002B03A7858B0>: Failed to establish a new connection: [Errno 11001] getaddrinfo failed')': /simple/numpy/\n",
      "ERROR: pip's dependency resolver does not currently take into account all the packages that are installed. This behaviour is the source of the following dependency conflicts.\n",
      "opencv-python 4.12.0.88 requires numpy<2.3.0,>=2; python_version >= \"3.9\", but you have numpy 1.23.5 which is incompatible.\n"
     ]
    }
   ],
   "source": [
    "!pip uninstall -y numpy\n",
    "!pip install numpy==1.23.5\n"
   ]
  },
  {
   "cell_type": "code",
   "execution_count": 1,
   "id": "7eaa7589",
   "metadata": {},
   "outputs": [
    {
     "name": "stdout",
     "output_type": "stream",
     "text": [
      "Torch->NumPy works: [1 2 3]\n"
     ]
    }
   ],
   "source": [
    "import torch, numpy as np\n",
    "a = torch.tensor([1,2,3])\n",
    "b = a.numpy()\n",
    "print(\"Torch->NumPy works:\", b)\n"
   ]
  },
  {
   "cell_type": "code",
   "execution_count": 2,
   "id": "ab282caf",
   "metadata": {},
   "outputs": [],
   "source": [
    "import cv2\n",
    "import PIL.Image as Image\n",
    "\n",
    "img = np.zeros((100,100,3), dtype=np.uint8)  # black square\n",
    "cv2.imwrite(\"test.jpg\", img)\n",
    "im = Image.open(\"test.jpg\")\n",
    "im.show()\n"
   ]
  },
  {
   "cell_type": "code",
   "execution_count": 1,
   "id": "7e499edd",
   "metadata": {},
   "outputs": [
    {
     "name": "stdout",
     "output_type": "stream",
     "text": [
      "2.8.0+cpu\n",
      "0.23.0+cpu\n",
      "1.23.5\n",
      "3.7.1\n",
      "2.3.2\n",
      "4.12.0\n",
      "11.3.0\n"
     ]
    }
   ],
   "source": [
    "import torch, torchvision\n",
    "import numpy as np\n",
    "import matplotlib\n",
    "import pandas as pd\n",
    "import cv2\n",
    "from PIL import Image\n",
    "\n",
    "print( torch.__version__)\n",
    "print(torchvision.__version__)\n",
    "print( np.__version__)\n",
    "print( matplotlib.__version__)\n",
    "print( pd.__version__)\n",
    "print(cv2.__version__)\n",
    "print(Image.__version__)\n"
   ]
  },
  {
   "cell_type": "code",
   "execution_count": null,
   "id": "889d2544",
   "metadata": {},
   "outputs": [],
   "source": []
  }
 ],
 "metadata": {
  "kernelspec": {
   "display_name": "Python 3",
   "language": "python",
   "name": "python3"
  },
  "language_info": {
   "codemirror_mode": {
    "name": "ipython",
    "version": 3
   },
   "file_extension": ".py",
   "mimetype": "text/x-python",
   "name": "python",
   "nbconvert_exporter": "python",
   "pygments_lexer": "ipython3",
   "version": "3.9.13"
  }
 },
 "nbformat": 4,
 "nbformat_minor": 5
}
